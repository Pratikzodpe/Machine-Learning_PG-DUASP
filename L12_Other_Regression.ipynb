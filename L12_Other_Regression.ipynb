{
 "cells": [
  {
   "cell_type": "code",
   "execution_count": 1,
   "id": "0c20ac28",
   "metadata": {},
   "outputs": [
    {
     "name": "stderr",
     "output_type": "stream",
     "text": [
      "C:\\Users\\duasp\\AppData\\Roaming\\Python\\Python311\\site-packages\\pandas\\core\\arrays\\masked.py:60: UserWarning: Pandas requires version '1.3.6' or newer of 'bottleneck' (version '1.3.5' currently installed).\n",
      "  from pandas.core import (\n"
     ]
    }
   ],
   "source": [
    "import os\n",
    "import numpy as np\n",
    "import pandas as pd\n",
    "\n",
    "import seaborn as sns\n",
    "import sklearn\n",
    "\n",
    "import matplotlib.pyplot as plt\n",
    "from sklearn.model_selection import train_test_split\n",
    "from sklearn.metrics import accuracy_score\n",
    "from sklearn import datasets\n",
    "\n",
    "from sklearn.preprocessing import MinMaxScaler, PolynomialFeatures\n",
    "from sklearn.linear_model import LinearRegression, LogisticRegression, RidgeCV, Ridge, ElasticNet, ElasticNetCV\n",
    "from sklearn.model_selection import cross_val_score, KFold\n",
    "from sklearn.pipeline import make_pipeline\n",
    "from sklearn.metrics.pairwise import euclidean_distances\n",
    "from sklearn.neighbors import KNeighborsRegressor"
   ]
  },
  {
   "cell_type": "code",
   "execution_count": 2,
   "id": "13705ae7",
   "metadata": {},
   "outputs": [
    {
     "data": {
      "text/plain": [
       "<Figure size 640x480 with 0 Axes>"
      ]
     },
     "metadata": {},
     "output_type": "display_data"
    }
   ],
   "source": [
    "# Some Basic Directories for housekeeping\n",
    "# set location of input files:\n",
    "inpDir = os.path.join( '..', 'input')\n",
    "\n",
    "outDir = os.path.join('..', 'output')\n",
    "\n",
    "# define and set random state \n",
    "RANDOM_STATE = 24\n",
    "np.random.seed(RANDOM_STATE) # Set Random Seed for reproducible  results\n",
    "\n",
    "CMAP = plt.cm.rainbow\n",
    "plt.set_cmap(CMAP);\n",
    "plt.style.use('seaborn-v0_8-darkgrid') # plt.style.use('ggplot')\n",
    "\n",
    "TEST_SIZE = 0.2\n",
    "\n",
    "NOISE = 0.1\n",
    "N_SAMPLE = 1000\n",
    "ALPHA = 0.001"
   ]
  },
  {
   "cell_type": "code",
   "execution_count": 3,
   "id": "24639cfe",
   "metadata": {},
   "outputs": [],
   "source": [
    "# parameters for Matplotlib\n",
    "params = {'legend.fontsize': 'x-large',\n",
    "          'figure.figsize': (15, 5),\n",
    "          'axes.labelsize': 'x-large',\n",
    "          'axes.titlesize':'x-large',\n",
    "          'xtick.labelsize':'x-large',\n",
    "          'ytick.labelsize':'x-large',\n",
    "          'savefig.dpi': 75,\n",
    "          'image.cmap': 'jet',\n",
    "          'image.interpolation': 'none',\n",
    "          'savefig.bbox' : 'tight',\n",
    "          'lines.linewidth' : 1,\n",
    "          'legend.numpoints' : 1\n",
    "         }\n",
    "\n",
    "\n",
    "plt.rcParams.update(params)\n",
    "\n",
    "'''plt.rc('axes', prop_cycle=(\n",
    "    cycler('color', mglearn.plot_helpers.cm_cycle.colors) +\n",
    "    cycler('linestyle', ['-', '-', \"--\", (0, (3, 3)), (0, (1.5, 1.5))])))\n",
    "'''\n",
    "np.set_printoptions(precision=3, suppress=True)\n",
    "\n",
    "pd.set_option(\"display.max_columns\", 8)\n",
    "pd.set_option('display.precision', 2)\n",
    "\n",
    "__all__ = ['np', 'display', 'plt', 'pd', 'sklearn', 'seaborn']"
   ]
  },
  {
   "cell_type": "code",
   "execution_count": 4,
   "id": "68bd885a",
   "metadata": {},
   "outputs": [],
   "source": [
    "def fn_make_wave(n_samples = 100):\n",
    "    '''\n",
    "    Args:\n",
    "        n_samples : int, number of samples\n",
    "        \n",
    "    returns:\n",
    "        x: np.ndarray column vector with n_samples values\n",
    "        y: np.ndarray labels\n",
    "    '''\n",
    "    \n",
    "    # instantiate random state\n",
    "    rnd = np.random.RandomState(RANDOM_STATE)\n",
    "    \n",
    "    # generate n_samples\n",
    "    x = rnd.uniform(-3,3, size = n_samples)\n",
    "    \n",
    "    # generate y\n",
    "    y_no_noise = (np.sin(4 * x) + x)\n",
    "    \n",
    "    # add some noise\n",
    "    y = (y_no_noise + rnd.normal(size = len(x))) / 2\n",
    "    \n",
    "    return x.reshape(-1,1), y"
   ]
  },
  {
   "cell_type": "code",
   "execution_count": 5,
   "id": "3031f6bd",
   "metadata": {},
   "outputs": [],
   "source": [
    "n_neighbors = 1    # One neighbor\n",
    "\n",
    "X, y = fn_make_wave(n_samples = 100)     # Using the function generate data\n",
    "\n",
    "# Split in test and train\n",
    "X_train, X_test, y_train, y_test = train_test_split(X, y,\n",
    "                                                   random_state = RANDOM_STATE,\n",
    "                                                   test_size = 4)\n",
    "\n",
    "# Calculate distance\n",
    "dist = euclidean_distances(X_train, X_test)\n",
    "\n",
    "# Arrange in acsending order of distance\n",
    "closest = np.argsort(dist, axis = 0)"
   ]
  },
  {
   "cell_type": "markdown",
   "id": "2d9500c3",
   "metadata": {},
   "source": [
    "### Fit the data and make predictions"
   ]
  },
  {
   "cell_type": "code",
   "execution_count": 6,
   "id": "d4ba4381",
   "metadata": {},
   "outputs": [],
   "source": [
    "reg = KNeighborsRegressor(n_neighbors = n_neighbors).fit(X_train, y_train)\n",
    "\n",
    "y_pred = reg.predict(X_test)"
   ]
  },
  {
   "cell_type": "code",
   "execution_count": 7,
   "id": "22dfa293",
   "metadata": {},
   "outputs": [
    {
     "data": {
      "text/plain": [
       "<matplotlib.collections.PathCollection at 0x192c18c45d0>"
      ]
     },
     "execution_count": 7,
     "metadata": {},
     "output_type": "execute_result"
    },
    {
     "data": {
      "image/png": "[encoded data removed]",
      "text/plain": [
       "<Figure size 1500x500 with 1 Axes>"
      ]
     },
     "metadata": {},
     "output_type": "display_data"
    }
   ],
   "source": [
    "fig, ax = plt.subplots()    # intantiate\n",
    "\n",
    "ax.plot(X_train, y_train, 'o', c = 'r')     # Plot train data\n",
    "\n",
    "ax.plot(X_test,    # values same as test\n",
    "       -3 * np.ones(len(X_test)),    # no y values\n",
    "       '*', c = 'black',\n",
    "       markersize = 20)     # Plot test data\n",
    "\n",
    "# predicted values\n",
    "ax.plot(X_test, y_pred, '*', c = 'b', markersize = 10)\n",
    "\n",
    "for x, y_, neighbors in zip(X_test, y_pred, closest.T):\n",
    "    for neighbor in neighbors[:n_neighbors]:\n",
    "        plt.arrow(x[0], y_,\n",
    "                 X_train[neighbor, 0] - x[0],\n",
    "                 y_train[neighbor] - y_,\n",
    "                 head_width = 0,\n",
    "                 fc = 'k', ec = 'k')\n",
    "        \n",
    "ax.scatter(X_test, y_test, s = 100, edgecolor = 'k', facecolor = None)"
   ]
  },
  {
   "cell_type": "code",
   "execution_count": 8,
   "id": "761b8f90",
   "metadata": {},
   "outputs": [
    {
     "data": {
      "text/plain": [
       "<matplotlib.collections.PathCollection at 0x192c1995b10>"
      ]
     },
     "execution_count": 8,
     "metadata": {},
     "output_type": "execute_result"
    },
    {
     "data": {
      "image/png": "[encoded data removed]",
      "text/plain": [
       "<Figure size 1500x500 with 1 Axes>"
      ]
     },
     "metadata": {},
     "output_type": "display_data"
    }
   ],
   "source": [
    "n_neighbors = 3    # Three neighbor\n",
    "\n",
    "reg = KNeighborsRegressor(n_neighbors = n_neighbors).fit(X_train, y_train)     # train new regressor\n",
    "\n",
    "y_pred = reg.predict(X_test)      # make predictions\n",
    "\n",
    "### ------- Plot as earlier \n",
    "fig, ax = plt.subplots()    # intantiate\n",
    "\n",
    "ax.plot(X_train, y_train, 'o', c = 'r')     # Plot train data\n",
    "\n",
    "ax.plot(X_test,    # values same as test\n",
    "       -3 * np.ones(len(X_test)),    # no y values\n",
    "       '*', c = 'black',\n",
    "       markersize = 20)     # Plot test data\n",
    "\n",
    "# predicted values\n",
    "ax.plot(X_test, y_pred, '*', c = 'b', markersize = 10)\n",
    "\n",
    "for x, y_, neighbors in zip(X_test, y_pred, closest.T):\n",
    "    for neighbor in neighbors[:n_neighbors]:\n",
    "        plt.arrow(x[0], y_,\n",
    "                 X_train[neighbor, 0] - x[0],\n",
    "                 y_train[neighbor] - y_,\n",
    "                 head_width = 0,\n",
    "                 fc = 'k', ec = 'k')\n",
    "        \n",
    "ax.scatter(X_test, y_test, s = 100, edgecolor = 'k', facecolor = 'lime')"
   ]
  },
  {
   "cell_type": "markdown",
   "id": "ee3697e7",
   "metadata": {},
   "source": [
    "### Regression"
   ]
  },
  {
   "cell_type": "markdown",
   "id": "72542e7e",
   "metadata": {},
   "source": [
    "### Generate Data"
   ]
  },
  {
   "cell_type": "code",
   "execution_count": 9,
   "id": "9a93fad3",
   "metadata": {},
   "outputs": [],
   "source": [
    "def fn_generate_lin_data():\n",
    "    start = -1\n",
    "    end = 2\n",
    "    delta = 0.05\n",
    "    X = np.arange(start,end+delta, delta) #Define X Data\n",
    "    \n",
    "    y_rnd = np.random.rand(X.shape[0])\n",
    "    y_train = 2 * X + y_rnd\n",
    "    \n",
    "    y_rnd = np.random.rand(X.shape[0])\n",
    "    y_test = (2 - y_rnd) * X + y_rnd\n",
    "    \n",
    "    # Plot for visualization\n",
    "    fig = plt.figure()   # Add a figure\n",
    "    ax = fig.add_subplot()   # add an axis to the figure\n",
    "    ax.scatter(X, y_train)\n",
    "    ax.scatter(X, y_test)\n",
    "    ax.axhline(0, c = 'k', lw = 1)\n",
    "    ax.axvline(0, c = 'k', lw = 1)\n",
    "    ax.grid()\n",
    "    \n",
    "    return X, X, y_train, y_test"
   ]
  },
  {
   "cell_type": "code",
   "execution_count": 10,
   "id": "4a08ebaa",
   "metadata": {},
   "outputs": [
    {
     "data": {
      "image/png": "[encoded data removed]",
      "text/plain": [
       "<Figure size 1500x500 with 1 Axes>"
      ]
     },
     "metadata": {},
     "output_type": "display_data"
    }
   ],
   "source": [
    "X_train, X_test, y_train, y_test = fn_generate_lin_data()"
   ]
  },
  {
   "cell_type": "code",
   "execution_count": 11,
   "id": "86eb4826",
   "metadata": {},
   "outputs": [
    {
     "data": {
      "text/plain": [
       "(array([1.99]), 0.6044546105188306)"
      ]
     },
     "execution_count": 11,
     "metadata": {},
     "output_type": "execute_result"
    }
   ],
   "source": [
    "lr = LinearRegression()\n",
    "\n",
    "lr.fit(X_train.reshape(-1, 1), y_train)     # Reshaping x to make it 2D as per sklearn datastructure\n",
    "\n",
    "lr.coef_, lr.intercept_"
   ]
  },
  {
   "cell_type": "code",
   "execution_count": 12,
   "id": "22a60be9",
   "metadata": {},
   "outputs": [
    {
     "name": "stdout",
     "output_type": "stream",
     "text": [
      "Error- Train:0.073 | Test:0.386 | R2 Score0.7948\n"
     ]
    }
   ],
   "source": [
    "from sklearn.metrics import mean_squared_error, r2_score\n",
    "\n",
    "y_pred = lr.predict(X_train.reshape(-1,1))\n",
    "err_train = mean_squared_error(y_train,y_pred)\n",
    "y_pred = lr.predict(X_test.reshape(-1,1))\n",
    "err_test = mean_squared_error(y_test,y_pred)\n",
    "r2s = r2_score(y_test, y_pred)\n",
    "print(f'Error- Train:{err_train:.3f} | Test:{err_test:.3f} | R2 Score{r2s:.4f}')"
   ]
  },
  {
   "cell_type": "code",
   "execution_count": 13,
   "id": "e9a6e8de",
   "metadata": {},
   "outputs": [
    {
     "data": {
      "text/plain": [
       "<matplotlib.collections.PathCollection at 0x192c3fb2cd0>"
      ]
     },
     "execution_count": 13,
     "metadata": {},
     "output_type": "execute_result"
    },
    {
     "data": {
      "image/png": "[encoded data removed]",
      "text/plain": [
       "<Figure size 1500x500 with 1 Axes>"
      ]
     },
     "metadata": {},
     "output_type": "display_data"
    }
   ],
   "source": [
    "fig,ax=plt.subplots()\n",
    "\n",
    "ax.scatter(X_test,y_test,c='r')\n",
    "ax.scatter(X_test,y_pred,c='black')"
   ]
  },
  {
   "cell_type": "markdown",
   "id": "c8b3975a",
   "metadata": {},
   "source": [
    "### Ridge Regression"
   ]
  },
  {
   "cell_type": "code",
   "execution_count": 14,
   "id": "3093b52a",
   "metadata": {},
   "outputs": [
    {
     "data": {
      "text/plain": [
       "(array([1.643]), 0.6044546105188306)"
      ]
     },
     "execution_count": 14,
     "metadata": {},
     "output_type": "execute_result"
    }
   ],
   "source": [
    "ridge=Ridge(alpha=10)\n",
    "\n",
    "ridge.fit(X_train.reshape(-1,1),y_train)\n",
    "\n",
    "ridge.coef_,lr.intercept_"
   ]
  },
  {
   "cell_type": "code",
   "execution_count": 15,
   "id": "49c0738c",
   "metadata": {},
   "outputs": [
    {
     "name": "stdout",
     "output_type": "stream",
     "text": [
      "0.22334293142301423 0.8811891053478977\n"
     ]
    }
   ],
   "source": [
    "y_pred = ridge.predict(X_train.reshape(-1,1))\n",
    "print(mean_squared_error(y_test, y_pred), r2_score(y_test, y_pred))"
   ]
  },
  {
   "cell_type": "code",
   "execution_count": 16,
   "id": "3a368a21",
   "metadata": {},
   "outputs": [
    {
     "name": "stdout",
     "output_type": "stream",
     "text": [
      "Error- Train:0.166 | Test:0.223 | R2 Score0.8812\n"
     ]
    }
   ],
   "source": [
    "y_pred = ridge.predict(X_train.reshape(-1,1))      # predict on train\n",
    "err_train = mean_squared_error(y_train,y_pred)    # cal error on train\n",
    "y_pred = ridge.predict(X_test.reshape(-1,1))      # predict on test\n",
    "err_test = mean_squared_error(y_test,y_pred)      # error on test\n",
    "r2s = r2_score(y_test, y_pred)\n",
    "print(f'Error- Train:{err_train:.3f} | Test:{err_test:.3f} | R2 Score{r2s:.4f}')"
   ]
  },
  {
   "cell_type": "code",
   "execution_count": null,
   "id": "57268b80",
   "metadata": {},
   "outputs": [],
   "source": []
  },
  {
   "cell_type": "markdown",
   "id": "1312821a",
   "metadata": {},
   "source": [
    "### Lasso"
   ]
  },
  {
   "cell_type": "code",
   "execution_count": 17,
   "id": "7ddff06f",
   "metadata": {},
   "outputs": [
    {
     "name": "stdout",
     "output_type": "stream",
     "text": [
      "[1.861]\n",
      "0.668970739551089\n"
     ]
    }
   ],
   "source": [
    "from sklearn.linear_model import Lasso\n",
    "\n",
    "reg = Lasso(alpha = 0.1)\n",
    "reg.fit(X_train.reshape(-1,1),y_train)\n",
    "print(reg.coef_)\n",
    "print(reg.intercept_)"
   ]
  },
  {
   "cell_type": "code",
   "execution_count": 18,
   "id": "5ded5fae",
   "metadata": {},
   "outputs": [
    {
     "name": "stdout",
     "output_type": "stream",
     "text": [
      "Error- Train:0.085 | Test:0.304 | R2 Score0.8385\n"
     ]
    }
   ],
   "source": [
    "y_pred = reg.predict(X_train.reshape(-1,1))      # predict on train\n",
    "err_train = mean_squared_error(y_train,y_pred)    # cal error on train\n",
    "y_pred = reg.predict(X_test.reshape(-1,1))      # predict on test\n",
    "err_test = mean_squared_error(y_test,y_pred)      # error on test\n",
    "r2s = r2_score(y_test, y_pred)\n",
    "print(f'Error- Train:{err_train:.3f} | Test:{err_test:.3f} | R2 Score{r2s:.4f}')"
   ]
  },
  {
   "cell_type": "code",
   "execution_count": null,
   "id": "aab448e7",
   "metadata": {},
   "outputs": [],
   "source": []
  },
  {
   "cell_type": "markdown",
   "id": "7fbdc248",
   "metadata": {},
   "source": [
    "*Linear Error- Train:0.073 | Test:0.386 | R2 Score0.7948\n",
    "\n",
    "*Ridge Error- Train:0.166 | Test:0.223 | R2 Score0.8812\n",
    "\n",
    "*Lasso Error- Train:0.085 | Test:0.304 | R2 Score0.8385"
   ]
  },
  {
   "cell_type": "code",
   "execution_count": null,
   "id": "d83b3700",
   "metadata": {},
   "outputs": [],
   "source": [
    "fig,ax=plt.subplots(1,2,1)\n",
    "ax[0].scatter(X_test,y_test,c='r')\n",
    "ax[0].scatter(X_test,y_pred,c='black')\n",
    "ridge.fit(X_train.reshape(-1,1),y_train)\n",
    "\n",
    "\n"
   ]
  },
  {
   "cell_type": "code",
   "execution_count": null,
   "id": "98e53398",
   "metadata": {},
   "outputs": [],
   "source": []
  },
  {
   "cell_type": "code",
   "execution_count": null,
   "id": "4db7571f",
   "metadata": {},
   "outputs": [],
   "source": []
  },
  {
   "cell_type": "code",
   "execution_count": 19,
   "id": "cb1b6e93",
   "metadata": {},
   "outputs": [],
   "source": [
    "### Elastic Net\n",
    "from sklearn.linear_model import ElasticNet"
   ]
  },
  {
   "cell_type": "code",
   "execution_count": 22,
   "id": "cd887270",
   "metadata": {},
   "outputs": [
    {
     "name": "stdout",
     "output_type": "stream",
     "text": [
      "[1.505]\n",
      "0.8469202747300576\n"
     ]
    }
   ],
   "source": [
    "reg = ElasticNet(alpha = 0.3)\n",
    "reg.fit(X_train.reshape(-1,1),y_train)\n",
    "print(reg.coef_)\n",
    "print(reg.intercept_)"
   ]
  },
  {
   "cell_type": "code",
   "execution_count": 23,
   "id": "22f44c5e",
   "metadata": {},
   "outputs": [
    {
     "name": "stdout",
     "output_type": "stream",
     "text": [
      "Error- Train:0.255 | Test:0.211 | R2 Score0.8879\n"
     ]
    }
   ],
   "source": [
    "y_pred = reg.predict(X_train.reshape(-1,1))      # predict on train\n",
    "err_train = mean_squared_error(y_train,y_pred)    # cal error on train\n",
    "y_pred = reg.predict(X_test.reshape(-1,1))      # predict on test\n",
    "err_test = mean_squared_error(y_test,y_pred)      # error on test\n",
    "r2s = r2_score(y_test, y_pred)\n",
    "print(f'Error- Train:{err_train:.3f} | Test:{err_test:.3f} | R2 Score{r2s:.4f}')"
   ]
  },
  {
   "cell_type": "code",
   "execution_count": null,
   "id": "67d0b20e",
   "metadata": {},
   "outputs": [],
   "source": []
  },
  {
   "cell_type": "code",
   "execution_count": null,
   "id": "fffa53e3",
   "metadata": {},
   "outputs": [],
   "source": []
  },
  {
   "cell_type": "code",
   "execution_count": null,
   "id": "31601148",
   "metadata": {},
   "outputs": [],
   "source": []
  },
  {
   "cell_type": "code",
   "execution_count": null,
   "id": "adc60b45",
   "metadata": {},
   "outputs": [],
   "source": []
  },
  {
   "cell_type": "code",
   "execution_count": null,
   "id": "43848e77",
   "metadata": {},
   "outputs": [],
   "source": []
  },
  {
   "cell_type": "code",
   "execution_count": null,
   "id": "0e5b5cd5",
   "metadata": {},
   "outputs": [],
   "source": []
  },
  {
   "cell_type": "code",
   "execution_count": null,
   "id": "aaba1369",
   "metadata": {},
   "outputs": [],
   "source": []
  },
  {
   "cell_type": "code",
   "execution_count": null,
   "id": "520e5607",
   "metadata": {},
   "outputs": [],
   "source": []
  },
  {
   "cell_type": "code",
   "execution_count": null,
   "id": "5005c143",
   "metadata": {},
   "outputs": [],
   "source": []
  },
  {
   "cell_type": "code",
   "execution_count": null,
   "id": "c8ee445f",
   "metadata": {},
   "outputs": [],
   "source": []
  },
  {
   "cell_type": "code",
   "execution_count": null,
   "id": "d0a56b8b",
   "metadata": {},
   "outputs": [],
   "source": []
  },
  {
   "cell_type": "code",
   "execution_count": null,
   "id": "f695ae35",
   "metadata": {},
   "outputs": [],
   "source": []
  },
  {
   "cell_type": "code",
   "execution_count": null,
   "id": "924d8c40",
   "metadata": {},
   "outputs": [],
   "source": []
  },
  {
   "cell_type": "code",
   "execution_count": null,
   "id": "eb0ae198",
   "metadata": {},
   "outputs": [],
   "source": []
  },
  {
   "cell_type": "code",
   "execution_count": null,
   "id": "ad9c3349",
   "metadata": {},
   "outputs": [],
   "source": []
  },
  {
   "cell_type": "code",
   "execution_count": null,
   "id": "11debf66",
   "metadata": {},
   "outputs": [],
   "source": []
  },
  {
   "cell_type": "code",
   "execution_count": null,
   "id": "ab1d8343",
   "metadata": {},
   "outputs": [],
   "source": []
  },
  {
   "cell_type": "code",
   "execution_count": null,
   "id": "ff0fe5e0",
   "metadata": {},
   "outputs": [],
   "source": []
  },
  {
   "cell_type": "code",
   "execution_count": null,
   "id": "b0b5380d",
   "metadata": {},
   "outputs": [],
   "source": []
  },
  {
   "cell_type": "code",
   "execution_count": null,
   "id": "c70faead",
   "metadata": {},
   "outputs": [],
   "source": []
  },
  {
   "cell_type": "code",
   "execution_count": null,
   "id": "e3334171",
   "metadata": {},
   "outputs": [],
   "source": []
  },
  {
   "cell_type": "code",
   "execution_count": null,
   "id": "2002b081",
   "metadata": {},
   "outputs": [],
   "source": []
  },
  {
   "cell_type": "code",
   "execution_count": null,
   "id": "c6d50704",
   "metadata": {},
   "outputs": [],
   "source": []
  },
  {
   "cell_type": "code",
   "execution_count": null,
   "id": "f9f8a5e5",
   "metadata": {},
   "outputs": [],
   "source": []
  }
 ],
 "metadata": {
  "kernelspec": {
   "display_name": "Python 3 (ipykernel)",
   "language": "python",
   "name": "python3"
  },
  "language_info": {
   "codemirror_mode": {
    "name": "ipython",
    "version": 3
   },
   "file_extension": ".py",
   "mimetype": "text/x-python",
   "name": "python",
   "nbconvert_exporter": "python",
   "pygments_lexer": "ipython3",
   "version": "3.11.5"
  }
 },
 "nbformat": 4,
 "nbformat_minor": 5
}
