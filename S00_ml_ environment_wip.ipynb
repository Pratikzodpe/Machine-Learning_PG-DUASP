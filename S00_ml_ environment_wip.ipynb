{
 "cells": [
  {
   "cell_type": "code",
   "execution_count": 1,
   "metadata": {},
   "outputs": [],
   "source": [
    "#!/usr/bin/env python3\n",
    "# -*- coding: utf-8 -*-"
   ]
  },
  {
   "cell_type": "markdown",
   "metadata": {},
   "source": [
    "\n",
    "# Machine Learning & Reinforcement Learning \n",
    "## Session 00\n",
    "\n",
    "## Create Environment\n",
    "\n",
    "<img src='../../../prasami_images/prasami_color_tutorials_small.png' style = 'width:400px;' alt=\"By Pramod Sharma : pramod.sharma@prasami.com\" align=\"left\"/>"
   ]
  },
  {
   "cell_type": "markdown",
   "metadata": {},
   "source": [
    "### Prepare Virtual environment for Machine Learning\n",
    "\n",
    "Step 1: Update and Upgrade\n",
    ">`sudo apt-get update`; `sudo apt-get -y upgrade`\n",
    "\n",
    "Step 2: Check python3 version\n",
    ">`python3 -V`\n",
    "\n",
    "Step 3:Check / install pip3 latest version\n",
    ">`sudo apt-get install -y python3-pip`\n",
    "\n",
    "Step 4: Don't forget to install following to make your environment more consistent\n",
    ">`sudo apt-get install build-essential libssl-dev libffi-dev python3-dev`\n",
    "\n",
    "Step 5: Install python3-venv\n",
    ">`sudo apt-get install -y python3-venv`\n",
    "\n",
    "Step 6: (Important) check and see if xvfb is installed:\n",
    "> Xvfb -help\n",
    "\n",
    "if not, install in main installation (outside virtual environment)\n",
    "> sudo apt-get install xvfb\n",
    "\n",
    "\n",
    "Step 6: (Optional) if you want to keep all environments in separate directory then make directories or else skip\n",
    ">`mkdir directory_env`\n",
    "\n",
    "> `cd directory_env`\n",
    "\n",
    "Step 7: make your environment\n",
    "- `python3 -m venv ML_module`\n",
    "\n",
    "Step 8: activate your environment\n",
    ">`source ML_module/bin/activate`\n",
    "\n",
    "Step 9: install required libraries\n",
    "\n",
    ">`pip3 install -U numpy pandas matplotlib jupyterlab seaborn jupyter_contrib_nbextensions  scikit-learn scikit-image Pillow  pmdarima imblearn xgboost folium statsmodels tqdm`\n",
    "\n",
    "**Note** : -U helps upgrade all specified packages to the newest available version.\n",
    "\n",
    "Step 10: for Deep Learning (optional)\n",
    "\n",
    "**Tensorflow**\n",
    "\n",
    "<b>Follow procedure given at tensorflow [site](https://www.tensorflow.org/install/pip)</b>\n",
    "\n",
    "Make sure `nvcc` is installed and `$PATH` and `$LD_LIBRARY_PATH` include reference to cuda environment\n",
    "\n",
    ">`export PATH=\"/usr/local/cuda/bin:$PATH\"`\n",
    ">`export LD_LIBRARY_PATH=\"/usr/local/cuda/lib64:$LD_LIBRARY_PATH\"`\n",
    "\n",
    "**Pytorch**\n",
    "\n",
    ">`pip3 install -U torch torchvision torchaudio  tensorflow`\n",
    "\n",
    "Step 11: for Deepface for computer vision\n",
    "\n",
    "> `pip3 install -U opencv-contrib-python`\n",
    "\n",
    "> `pip3 install -U deepface`\n",
    "\n",
    "> `pip3 install -U cmake`\n",
    "\n",
    "> `pip3 install -U dlib` \n",
    "\n",
    "Step 12: for plotting models and graphs\n",
    " > `pip3 install -U pydot pydotplus pydot-ng`\n",
    " \n",
    " > `pip3 install -U graphviz`\n",
    " \n",
    " Note you may also need to install `sudo apt-get install -y graphviz libgraphviz-dev` to get it working.\n",
    " \n",
    "Step 13: install gym in your venv\n",
    "\n",
    ">`pip3 install -U gymnasium`\n",
    "\n",
    ">`pip3 install -U atari-py`\n",
    "\n",
    ">`pip3 install -U ale-py`\n",
    "\n",
    ">`pip3 install -U gymnasium[all]`\n",
    "\n",
    ">`pip3 install -U gymnasium[atari]`\n",
    "\n",
    ">`pip3 install autorom[accept-rom-license]`\n",
    "\n",
    "Step 14: install PyVirtualDisplay\n",
    ">`pip3 install PyVirtualDisplay`\n",
    " \n",
    " Step 15: Freeze the environment\n",
    " > `pip3 freeze -l > ml_requirements.txt`\n",
    "\n",
    " \n",
    "---:######:---"
   ]
  },
  {
   "cell_type": "code",
   "execution_count": 2,
   "metadata": {},
   "outputs": [
    {
     "name": "stdout",
     "output_type": "stream",
     "text": [
      " Volume in drive C has no label.\n",
      " Volume Serial Number is 985B-2269\n",
      "\n",
      " Directory of C:\\Users\\duasp\\input\n",
      "\n",
      "05/10/2024  11:26 AM    <DIR>          .\n",
      "05/10/2024  10:43 AM    <DIR>          ..\n",
      "04/04/2024  11:34 AM    <DIR>          .ipynb_checkpoints\n",
      "04/17/2024  03:41 PM             4,670 a10.csv\n",
      "04/26/2024  11:37 AM    <DIR>          Acts drone batch apr 24\n",
      "04/06/2024  06:31 PM            39,169 boston_house_price.csv\n",
      "04/23/2024  09:02 AM            35,770 breast_cancer_mod.csv\n",
      "06/05/2009  02:17 AM    <DIR>          cifar-10-batches-py\n",
      "05/08/2024  09:33 AM       170,498,071 cifar-10-python.tar.gz\n",
      "05/10/2024  11:21 AM    <DIR>          cityscapes_data\n",
      "04/30/2024  10:51 AM        22,176,691 fashion-mnist_test.csv\n",
      "04/30/2024  10:51 AM       133,047,193 fashion-mnist_train.csv\n",
      "04/29/2024  08:46 AM         9,140,113 fifa_2019.csv\n",
      "05/08/2024  03:15 PM    <DIR>          flower_photos\n",
      "05/07/2024  09:35 AM       228,813,984 flower_photos.tgz\n",
      "04/29/2024  08:50 AM             9,388 helper.py\n",
      "04/26/2024  12:11 PM            10,631 indianpremireleague.csv\n",
      "04/26/2024  11:37 AM            11,572 indianpremirelegue.csv\n",
      "04/26/2024  11:37 AM             5,107 iris.csv\n",
      "04/20/2024  08:06 PM            23,538 mario_game.png\n",
      "04/17/2024  06:07 PM             2,552 quarterly-beer-production-in-aus-March 1956-June 1994.csv\n",
      "04/11/2024  12:49 PM             5,822 ram_price.csv\n",
      "04/22/2024  05:39 PM           605,981 S18e_ TD_eligibility_frozenlake_wip.ipynb\n",
      "05/03/2024  02:13 PM         1,115,395 shakespeare.txt\n",
      "04/04/2024  11:45 AM            72,036 StudentsPerformance.csv\n",
      "04/15/2024  11:47 AM        59,054,007 test.csv\n",
      "04/12/2024  02:20 PM            85,155 titanic.csv\n",
      "04/15/2024  11:47 AM        59,362,806 train.csv\n",
      "04/15/2024  12:45 PM        59,438,827 train.xlsx\n",
      "04/20/2024  07:33 PM    <DIR>          utils-20240420T140221Z-001\n",
      "05/02/2024  05:09 PM        16,294,377 weatherHistory.csv\n",
      "04/18/2024  11:49 AM             2,347 website_data.csv\n",
      "04/29/2024  08:50 AM            15,846 yolov3_util.py\n",
      "              25 File(s)    759,871,048 bytes\n",
      "               8 Dir(s)   7,722,905,600 bytes free\n"
     ]
    }
   ],
   "source": [
    "!dir \"../input\"\n"
   ]
  },
  {
   "cell_type": "markdown",
   "metadata": {},
   "source": [
    "## Prologue"
   ]
  },
  {
   "cell_type": "code",
   "execution_count": 3,
   "metadata": {},
   "outputs": [
    {
     "name": "stderr",
     "output_type": "stream",
     "text": [
      "C:\\Users\\duasp\\AppData\\Roaming\\Python\\Python311\\site-packages\\pandas\\core\\arrays\\masked.py:60: UserWarning: Pandas requires version '1.3.6' or newer of 'bottleneck' (version '1.3.5' currently installed).\n",
      "  from pandas.core import (\n"
     ]
    }
   ],
   "source": [
    "import sys\n",
    "import os\n",
    "import datetime\n",
    "import numpy as np\n",
    "import pandas as pd\n",
    "\n",
    "import matplotlib\n",
    "import sklearn\n",
    "\n",
    "import matplotlib.pyplot as plt\n",
    "from cycler import cycler\n",
    "\n",
    "%matplotlib inline"
   ]
  },
  {
   "cell_type": "code",
   "execution_count": 4,
   "metadata": {},
   "outputs": [],
   "source": [
    "# at times, it makes sense to ignore irrelevant warnings\n",
    "import warnings\n",
    "\n",
    "warnings.filterwarnings('ignore')"
   ]
  },
  {
   "cell_type": "code",
   "execution_count": 5,
   "metadata": {},
   "outputs": [
    {
     "data": {
      "text/plain": [
       "<contextlib.ExitStack at 0x276816e6050>"
      ]
     },
     "execution_count": 5,
     "metadata": {},
     "output_type": "execute_result"
    }
   ],
   "source": [
    "# Some Basic Directories for housekeeping\n",
    "# set location of input files:\n",
    "inpDir = os.path.join( '..', 'input')\n",
    "\n",
    "outDir = os.path.join('..', 'output')\n",
    "\n",
    "# define and set random state \n",
    "RANDOM_STATE = 24\n",
    "STEPS = 200\n",
    "\n",
    "np.random.seed(RANDOM_STATE) # Set Random Seed for reproducible  results\n",
    "\n",
    "plt.style.use('seaborn-v0_8-darkgrid') # plt.style.use('ggplot')\n",
    "\n",
    "is_ipython = 'inline' in plt.get_backend()\n",
    "if is_ipython:\n",
    "    from IPython import display\n",
    "\n",
    "plt.ion()"
   ]
  },
  {
   "cell_type": "code",
   "execution_count": 6,
   "metadata": {},
   "outputs": [
    {
     "name": "stdout",
     "output_type": "stream",
     "text": [
      " Volume in drive C has no label.\n",
      " Volume Serial Number is 985B-2269\n",
      "\n",
      " Directory of C:\\Users\\duasp\\input\n",
      "\n",
      "05/10/2024  11:26 AM    <DIR>          .\n",
      "05/10/2024  10:43 AM    <DIR>          ..\n",
      "04/04/2024  11:34 AM    <DIR>          .ipynb_checkpoints\n",
      "04/17/2024  03:41 PM             4,670 a10.csv\n",
      "04/26/2024  11:37 AM    <DIR>          Acts drone batch apr 24\n",
      "04/06/2024  06:31 PM            39,169 boston_house_price.csv\n",
      "04/23/2024  09:02 AM            35,770 breast_cancer_mod.csv\n",
      "06/05/2009  02:17 AM    <DIR>          cifar-10-batches-py\n",
      "05/08/2024  09:33 AM       170,498,071 cifar-10-python.tar.gz\n",
      "05/10/2024  11:21 AM    <DIR>          cityscapes_data\n",
      "04/30/2024  10:51 AM        22,176,691 fashion-mnist_test.csv\n",
      "04/30/2024  10:51 AM       133,047,193 fashion-mnist_train.csv\n",
      "04/29/2024  08:46 AM         9,140,113 fifa_2019.csv\n",
      "05/08/2024  03:15 PM    <DIR>          flower_photos\n",
      "05/07/2024  09:35 AM       228,813,984 flower_photos.tgz\n",
      "04/29/2024  08:50 AM             9,388 helper.py\n",
      "04/26/2024  12:11 PM            10,631 indianpremireleague.csv\n",
      "04/26/2024  11:37 AM            11,572 indianpremirelegue.csv\n",
      "04/26/2024  11:37 AM             5,107 iris.csv\n",
      "04/20/2024  08:06 PM            23,538 mario_game.png\n",
      "04/17/2024  06:07 PM             2,552 quarterly-beer-production-in-aus-March 1956-June 1994.csv\n",
      "04/11/2024  12:49 PM             5,822 ram_price.csv\n",
      "04/22/2024  05:39 PM           605,981 S18e_ TD_eligibility_frozenlake_wip.ipynb\n",
      "05/03/2024  02:13 PM         1,115,395 shakespeare.txt\n",
      "04/04/2024  11:45 AM            72,036 StudentsPerformance.csv\n",
      "04/15/2024  11:47 AM        59,054,007 test.csv\n",
      "04/12/2024  02:20 PM            85,155 titanic.csv\n",
      "04/15/2024  11:47 AM        59,362,806 train.csv\n",
      "04/15/2024  12:45 PM        59,438,827 train.xlsx\n",
      "04/20/2024  07:33 PM    <DIR>          utils-20240420T140221Z-001\n",
      "05/02/2024  05:09 PM        16,294,377 weatherHistory.csv\n",
      "04/18/2024  11:49 AM             2,347 website_data.csv\n",
      "04/29/2024  08:50 AM            15,846 yolov3_util.py\n",
      "              25 File(s)    759,871,048 bytes\n",
      "               8 Dir(s)   7,722,905,600 bytes free\n"
     ]
    }
   ],
   "source": [
    "!dir {inpDir}"
   ]
  },
  {
   "cell_type": "code",
   "execution_count": 7,
   "metadata": {},
   "outputs": [
    {
     "name": "stdout",
     "output_type": "stream",
     "text": [
      " Volume in drive C has no label.\n",
      " Volume Serial Number is 985B-2269\n",
      "\n",
      " Directory of C:\\Users\\duasp\\output\n",
      "\n",
      "04/11/2024  12:23 PM    <DIR>          .\n",
      "05/10/2024  10:43 AM    <DIR>          ..\n",
      "04/11/2024  12:19 PM               344 decision_tree.png\n",
      "04/03/2024  04:00 PM                 0 gogo.txt\n",
      "               2 File(s)            344 bytes\n",
      "               2 Dir(s)   7,722,905,600 bytes free\n"
     ]
    }
   ],
   "source": [
    "!dir {outDir}"
   ]
  },
  {
   "cell_type": "code",
   "execution_count": 8,
   "metadata": {},
   "outputs": [],
   "source": [
    "# parameters for Matplotlib\n",
    "params = {'legend.fontsize': 'x-large',\n",
    "          'figure.figsize': (15, 12),\n",
    "          'axes.labelsize': 'x-large',\n",
    "          'axes.titlesize':'x-large',\n",
    "          'xtick.labelsize':'x-large',\n",
    "          'ytick.labelsize':'x-large',\n",
    "          'savefig.dpi': 150,\n",
    "          'image.cmap': 'jet',\n",
    "          'image.interpolation': 'none',\n",
    "          'savefig.bbox' : 'tight',\n",
    "          'lines.linewidth' : 2,\n",
    "          'legend.numpoints' : 1\n",
    "         }\n",
    "\n",
    "\n",
    "plt.rcParams.update(params)\n",
    "\n",
    "'''plt.rc('axes', prop_cycle=(\n",
    "    cycler('color', mglearn.plot_helpers.cm_cycle.colors) +\n",
    "    cycler('linestyle', ['-', '-', \"--\", (0, (3, 3)), (0, (1.5, 1.5))])))\n",
    "'''\n",
    "np.set_printoptions(precision=3, suppress=True)\n",
    "\n",
    "pd.set_option(\"display.max_columns\", 8)\n",
    "pd.set_option('display.precision', 2)\n",
    "\n",
    "__all__ = ['np', 'display', 'plt', 'pd', 'sklearn', 'seaborn']"
   ]
  },
  {
   "cell_type": "markdown",
   "metadata": {},
   "source": [
    "## Verify Tensorflow environment"
   ]
  },
  {
   "cell_type": "code",
   "execution_count": 9,
   "metadata": {},
   "outputs": [
    {
     "name": "stdout",
     "output_type": "stream",
     "text": [
      "WARNING:tensorflow:From C:\\Users\\duasp\\AppData\\Roaming\\Python\\Python311\\site-packages\\keras\\src\\losses.py:2976: The name tf.losses.sparse_softmax_cross_entropy is deprecated. Please use tf.compat.v1.losses.sparse_softmax_cross_entropy instead.\n",
      "\n"
     ]
    }
   ],
   "source": [
    "## Import Statements\n",
    "\n",
    "import tensorflow as tf"
   ]
  },
  {
   "cell_type": "code",
   "execution_count": 10,
   "metadata": {},
   "outputs": [
    {
     "data": {
      "text/plain": [
       "'1.26.4'"
      ]
     },
     "execution_count": 10,
     "metadata": {},
     "output_type": "execute_result"
    }
   ],
   "source": [
    "np.__version__"
   ]
  },
  {
   "cell_type": "code",
   "execution_count": 11,
   "metadata": {},
   "outputs": [
    {
     "data": {
      "text/plain": [
       "'2.2.1'"
      ]
     },
     "execution_count": 11,
     "metadata": {},
     "output_type": "execute_result"
    }
   ],
   "source": [
    "pd.__version__"
   ]
  },
  {
   "cell_type": "code",
   "execution_count": 12,
   "metadata": {},
   "outputs": [
    {
     "data": {
      "text/plain": [
       "'3.8.3'"
      ]
     },
     "execution_count": 12,
     "metadata": {},
     "output_type": "execute_result"
    }
   ],
   "source": [
    "matplotlib.__version__"
   ]
  },
  {
   "cell_type": "code",
   "execution_count": 13,
   "metadata": {},
   "outputs": [
    {
     "data": {
      "text/plain": [
       "'1.4.2'"
      ]
     },
     "execution_count": 13,
     "metadata": {},
     "output_type": "execute_result"
    }
   ],
   "source": [
    "sklearn.__version__"
   ]
  },
  {
   "cell_type": "code",
   "execution_count": 14,
   "metadata": {},
   "outputs": [
    {
     "data": {
      "text/plain": [
       "'2.15.0'"
      ]
     },
     "execution_count": 14,
     "metadata": {},
     "output_type": "execute_result"
    }
   ],
   "source": [
    "tf.__version__"
   ]
  },
  {
   "cell_type": "code",
   "execution_count": 15,
   "metadata": {},
   "outputs": [
    {
     "data": {
      "text/plain": [
       "'2.0.1+cu117'"
      ]
     },
     "execution_count": 15,
     "metadata": {},
     "output_type": "execute_result"
    }
   ],
   "source": [
    "import torch\n",
    "torch.__version__"
   ]
  },
  {
   "cell_type": "code",
   "execution_count": 16,
   "metadata": {},
   "outputs": [
    {
     "data": {
      "text/plain": [
       "'4.9.0'"
      ]
     },
     "execution_count": 16,
     "metadata": {},
     "output_type": "execute_result"
    }
   ],
   "source": [
    "import cv2\n",
    "cv2.__version__"
   ]
  },
  {
   "cell_type": "code",
   "execution_count": 17,
   "metadata": {},
   "outputs": [
    {
     "name": "stdout",
     "output_type": "stream",
     "text": [
      "dict_keys(['CartPole-v0', 'CartPole-v1', 'MountainCar-v0', 'MountainCarContinuous-v0', 'Pendulum-v1', 'Acrobot-v1', 'phys2d/CartPole-v0', 'phys2d/CartPole-v1', 'phys2d/Pendulum-v0', 'LunarLander-v2', 'LunarLanderContinuous-v2', 'BipedalWalker-v3', 'BipedalWalkerHardcore-v3', 'CarRacing-v2', 'Blackjack-v1', 'FrozenLake-v1', 'FrozenLake8x8-v1', 'CliffWalking-v0', 'Taxi-v3', 'tabular/Blackjack-v0', 'tabular/CliffWalking-v0', 'Reacher-v2', 'Reacher-v4', 'Pusher-v2', 'Pusher-v4', 'InvertedPendulum-v2', 'InvertedPendulum-v4', 'InvertedDoublePendulum-v2', 'InvertedDoublePendulum-v4', 'HalfCheetah-v2', 'HalfCheetah-v3', 'HalfCheetah-v4', 'Hopper-v2', 'Hopper-v3', 'Hopper-v4', 'Swimmer-v2', 'Swimmer-v3', 'Swimmer-v4', 'Walker2d-v2', 'Walker2d-v3', 'Walker2d-v4', 'Ant-v2', 'Ant-v3', 'Ant-v4', 'Humanoid-v2', 'Humanoid-v3', 'Humanoid-v4', 'HumanoidStandup-v2', 'HumanoidStandup-v4', 'GymV21Environment-v0', 'GymV26Environment-v0'])\n"
     ]
    }
   ],
   "source": [
    "import gymnasium as gym\n",
    "from gymnasium import envs\n",
    "\n",
    "print ( envs.registry.keys())"
   ]
  },
  {
   "cell_type": "code",
   "execution_count": 18,
   "metadata": {},
   "outputs": [],
   "source": [
    "def fn_render_env(name, act_size):\n",
    "    \n",
    "    env = gym.make(name, render_mode='rgb_array')\n",
    "    #env.seed(RANDOM_STATE)\n",
    "    state = env.reset(seed = RANDOM_STATE)\n",
    "    \n",
    "    img = plt.imshow(env.render())\n",
    "\n",
    "    for j in range(STEPS):\n",
    "        # action = agent.act(state)\n",
    "        action = np.random.choice(range(act_size))\n",
    "        \n",
    "        img.set_data(env.render()) \n",
    "        \n",
    "        #img.set_data(env.render()) \n",
    "        plt.axis('off')\n",
    "        plt.title(name)\n",
    "        display.display(plt.gcf())\n",
    "        display.clear_output(wait=True)\n",
    "        state, reward, terminated, truncated, info = env.step(action)\n",
    "        #print (state, reward, done, truncated, info)\n",
    "        done = terminated or truncated\n",
    "        if done:\n",
    "            break \n",
    "        \n",
    "    env.close()\n",
    "    return "
   ]
  },
  {
   "cell_type": "code",
   "execution_count": 19,
   "metadata": {},
   "outputs": [
    {
     "data": {
      "image/png": "[encoded data removed]",
      "text/plain": [
       "<Figure size 1500x1200 with 1 Axes>"
      ]
     },
     "metadata": {},
     "output_type": "display_data"
    }
   ],
   "source": [
    "fn_render_env('FrozenLake8x8-v1', 4)"
   ]
  },
  {
   "cell_type": "code",
   "execution_count": null,
   "metadata": {},
   "outputs": [],
   "source": []
  }
 ],
 "metadata": {
  "kernelspec": {
   "display_name": "Python 3 (ipykernel)",
   "language": "python",
   "name": "python3"
  },
  "language_info": {
   "codemirror_mode": {
    "name": "ipython",
    "version": 3
   },
   "file_extension": ".py",
   "mimetype": "text/x-python",
   "name": "python",
   "nbconvert_exporter": "python",
   "pygments_lexer": "ipython3",
   "version": "3.11.5"
  }
 },
 "nbformat": 4,
 "nbformat_minor": 4
}
