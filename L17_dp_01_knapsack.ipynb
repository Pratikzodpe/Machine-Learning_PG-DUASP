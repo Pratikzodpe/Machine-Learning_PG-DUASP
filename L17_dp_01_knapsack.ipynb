{
 "cells": [
  {
   "cell_type": "code",
   "execution_count": 1,
   "id": "3a16530f",
   "metadata": {},
   "outputs": [
    {
     "name": "stderr",
     "output_type": "stream",
     "text": [
      "C:\\Users\\duasp\\AppData\\Roaming\\Python\\Python311\\site-packages\\pandas\\core\\arrays\\masked.py:60: UserWarning: Pandas requires version '1.3.6' or newer of 'bottleneck' (version '1.3.5' currently installed).\n",
      "  from pandas.core import (\n"
     ]
    }
   ],
   "source": [
    "import os\n",
    "import numpy as np\n",
    "import pandas as pd\n",
    "import matplotlib.pyplot as plt\n",
    "import seaborn as sns\n",
    "\n",
    "from tqdm import tqdm"
   ]
  },
  {
   "cell_type": "code",
   "execution_count": 2,
   "id": "131c6539",
   "metadata": {},
   "outputs": [
    {
     "data": {
      "text/plain": [
       "<Figure size 640x480 with 0 Axes>"
      ]
     },
     "metadata": {},
     "output_type": "display_data"
    }
   ],
   "source": [
    "# Some Basic Directories for housekeeping\n",
    "# set location of input files:\n",
    "inpDir = os.path.join( '..', 'input')\n",
    "\n",
    "outDir = os.path.join('..', 'output')\n",
    "\n",
    "# define and set random state \n",
    "RANDOM_STATE = 24\n",
    "np.random.seed(RANDOM_STATE) # Set Random Seed for reproducible results\n",
    "SMALL_ENOUGH = 1e-3\n",
    "GAMMA = 1.0    # 0.99\n",
    "ALL_POSSIBLE_ACTIONS = ('U', 'D', 'L', 'R')\n",
    "\n",
    "CMAP = plt.cm.rainbow\n",
    "plt.set_cmap(CMAP);\n",
    "plt.style.use('seaborn-v0_8-darkgrid') # plt.style.use('ggplot')\n",
    "\n",
    "# Define constants for data manipulation\n",
    "TEST_SIZE = 0.2\n",
    "NOISE = 0.2\n",
    "N_SAMPLE = 1024"
   ]
  },
  {
   "cell_type": "code",
   "execution_count": 3,
   "id": "13bb6057",
   "metadata": {},
   "outputs": [],
   "source": [
    "# parameters for Matplotlib\n",
    "params = {'legend.fontsize': 'x-large',    \n",
    "          'figure.figsize': (15, 8),\n",
    "          'axes.labelsize': 'x-large',\n",
    "          'axes.titlesize':'x-large',\n",
    "          'xtick.labelsize':'x-large',\n",
    "          'ytick.labelsize':'x-large',\n",
    "          'savefig.dpi': 75,\n",
    "          'image.cmap': 'summer',\n",
    "          'image.interpolation': 'none',\n",
    "          'savefig.bbox' : 'tight',\n",
    "          'lines.linewidth' : 1,\n",
    "          'legend.numpoints' : 1\n",
    "         }\n",
    "\n",
    "\n",
    "plt.rcParams.update(params)\n",
    "\n",
    "'''plt.rc('axes', prop_cycle=(\n",
    "    cycler('color', mglearn.plot_helpers.cm_cycle.colors) +\n",
    "    cycler('linestyle', ['-', '-', \"--\", (0, (3, 3)), (0, (1.5, 1.5))])))\n",
    "'''\n",
    "np.set_printoptions(precision=3, suppress=True)\n",
    "\n",
    "pd.set_option(\"display.max_columns\", 8)\n",
    "pd.set_option('display.precision', 2)\n",
    "\n",
    "__all__ = ['np', 'display', 'plt', 'pd', 'sklearn', 'seaborn']"
   ]
  },
  {
   "cell_type": "code",
   "execution_count": null,
   "id": "7c460134",
   "metadata": {},
   "outputs": [],
   "source": []
  },
  {
   "cell_type": "markdown",
   "id": "a56b9689",
   "metadata": {},
   "source": [
    "* wt = [1,5,6,8,9]\n",
    "* val = [10,8,6,4,2]\n",
    "* W = 11kg"
   ]
  },
  {
   "cell_type": "code",
   "execution_count": 4,
   "id": "315ea9bf",
   "metadata": {},
   "outputs": [],
   "source": [
    "wt = [1,5,6,8,9]\n",
    "val = [10,8,6,4,2]\n",
    "W = 11"
   ]
  },
  {
   "cell_type": "code",
   "execution_count": 5,
   "id": "8f26a4cf",
   "metadata": {},
   "outputs": [],
   "source": [
    "def solve_rec(wt, val, W, n):\n",
    "    '''\n",
    "        Args:\n",
    "            wt: list of weights in the room\n",
    "            val: respective values\n",
    "            W: capacity of the knapsack\n",
    "            n: number of items\n",
    "    '''\n",
    "    \n",
    "    # Base condition\n",
    "    if n == 0:\n",
    "        return 0   # nothing to pick\n",
    "    if W == 0:\n",
    "        return 0   # nosapre capacity in the bag\n",
    "    \n",
    "    # Decision Tree\n",
    "    if W < wt[n - 1]:\n",
    "        return solve_rec(wt, val, W, n-1)      # do not keep, call the fn again with one less items\n",
    "    else:\n",
    "        return max(val[n - 1] + solve_rec(wt, val, W - wt[n - 1], n - 1),      # keep in knapsack\n",
    "                   solve_rec(wt, val, W, n - 1))      # ignore current item"
   ]
  },
  {
   "cell_type": "code",
   "execution_count": 6,
   "id": "e8964344",
   "metadata": {},
   "outputs": [
    {
     "data": {
      "text/plain": [
       "18"
      ]
     },
     "execution_count": 6,
     "metadata": {},
     "output_type": "execute_result"
    }
   ],
   "source": [
    "solve_rec(wt, val, W, len(wt))"
   ]
  },
  {
   "cell_type": "markdown",
   "id": "94fa690c",
   "metadata": {},
   "source": [
    "### Knapsack with Memoization"
   ]
  },
  {
   "cell_type": "code",
   "execution_count": 7,
   "id": "d6c479ca",
   "metadata": {},
   "outputs": [
    {
     "name": "stdout",
     "output_type": "stream",
     "text": [
      "18\n",
      "Shape of DP Aray: (6, 12)\n",
      "\n",
      " [[-1 -1 -1 -1 -1 -1 -1 -1 -1 -1 -1 -1]\n",
      " [-1 -1 10 10 -1 10 10 -1 -1 -1 -1 10]\n",
      " [-1 -1 10 10 -1 10 -1 -1 -1 -1 -1 18]\n",
      " [-1 -1 10 10 -1 -1 -1 -1 -1 -1 -1 18]\n",
      " [-1 -1 10 -1 -1 -1 -1 -1 -1 -1 -1 18]\n",
      " [-1 -1 -1 -1 -1 -1 -1 -1 -1 -1 -1 18]]\n"
     ]
    }
   ],
   "source": [
    "def knap_sack_rec(W: int,\n",
    "                 wt: list,\n",
    "                 val: list,\n",
    "                 n: int):\n",
    "    #print(W, wt[n], val[n],n)\n",
    "    \n",
    "    # abse condition\n",
    "    if W == 0 or n == 0:    # either we do not want to put\n",
    "        return 0         # any thing in the sack or there are no items\n",
    "    \n",
    "    # if value exists, return the value\n",
    "    if dp[n][W] != -1:\n",
    "        return dp[n][W]\n",
    "    \n",
    "    # Decision Tree\n",
    "    if W >= wt[n - 1]:       # if next weight is more than the weight of item under consideration\n",
    "        dp[n][W] = max(val[n - 1] + knap_sack_rec(W-wt[n - 1], wt, val, n - 1),\n",
    "                     knap_sack_rec(W, wt, val, n - 1))\n",
    "    else:\n",
    "        dp[n][W] = knap_sack_rec(W, wt, val, n - 1) \n",
    "    return(dp[n][W])\n",
    "if __name__=='__main__':\n",
    "              \n",
    "    n = len(val)      # how many items\n",
    "              \n",
    "    dp = np.array([[-1 for _ in range(W + 1)] for _ in range(n + 1)])\n",
    "    \n",
    "    print(knap_sack_rec(W, wt, val, n))      # Process DP and fill with values\n",
    "              \n",
    "    print(f'Shape of DP Aray: {dp.shape}')\n",
    "    print('\\n',dp)"
   ]
  },
  {
   "cell_type": "code",
   "execution_count": null,
   "id": "44c99219",
   "metadata": {},
   "outputs": [],
   "source": [
    "def fibonacci(n):\n",
    "    if n<=1:\n",
    "        return n\n",
    "    \n",
    "    else:\n",
    "        return fibonacci(n-1)+fibonacci(n-2)\n",
    "    \n",
    "n=100\n",
    "print(\"Fibonacci number at index\",n,\"is:\",fibonacci(n))"
   ]
  },
  {
   "cell_type": "code",
   "execution_count": null,
   "id": "9f061e25",
   "metadata": {},
   "outputs": [],
   "source": []
  },
  {
   "cell_type": "code",
   "execution_count": null,
   "id": "a73a872c",
   "metadata": {},
   "outputs": [],
   "source": [
    "### Bottom "
   ]
  },
  {
   "cell_type": "code",
   "execution_count": null,
   "id": "d768a369",
   "metadata": {},
   "outputs": [],
   "source": []
  },
  {
   "cell_type": "code",
   "execution_count": null,
   "id": "102b5084",
   "metadata": {},
   "outputs": [],
   "source": []
  },
  {
   "cell_type": "code",
   "execution_count": null,
   "id": "832d2955",
   "metadata": {},
   "outputs": [],
   "source": []
  },
  {
   "cell_type": "code",
   "execution_count": null,
   "id": "46f0753f",
   "metadata": {},
   "outputs": [],
   "source": []
  },
  {
   "cell_type": "code",
   "execution_count": null,
   "id": "ecbac165",
   "metadata": {},
   "outputs": [],
   "source": []
  },
  {
   "cell_type": "code",
   "execution_count": null,
   "id": "088f2cbe",
   "metadata": {},
   "outputs": [],
   "source": []
  },
  {
   "cell_type": "code",
   "execution_count": null,
   "id": "70c8fb72",
   "metadata": {},
   "outputs": [],
   "source": []
  },
  {
   "cell_type": "code",
   "execution_count": null,
   "id": "2d5e4b7e",
   "metadata": {},
   "outputs": [],
   "source": []
  },
  {
   "cell_type": "code",
   "execution_count": null,
   "id": "f8aa62df",
   "metadata": {},
   "outputs": [],
   "source": []
  },
  {
   "cell_type": "code",
   "execution_count": null,
   "id": "be181f95",
   "metadata": {},
   "outputs": [],
   "source": []
  },
  {
   "cell_type": "code",
   "execution_count": null,
   "id": "320d46b8",
   "metadata": {},
   "outputs": [],
   "source": []
  },
  {
   "cell_type": "code",
   "execution_count": null,
   "id": "aa232659",
   "metadata": {},
   "outputs": [],
   "source": []
  },
  {
   "cell_type": "code",
   "execution_count": null,
   "id": "c4316b7c",
   "metadata": {},
   "outputs": [],
   "source": []
  },
  {
   "cell_type": "code",
   "execution_count": null,
   "id": "061a48fc",
   "metadata": {},
   "outputs": [],
   "source": []
  },
  {
   "cell_type": "code",
   "execution_count": null,
   "id": "3a8a2c52",
   "metadata": {},
   "outputs": [],
   "source": []
  },
  {
   "cell_type": "code",
   "execution_count": null,
   "id": "2cde94ab",
   "metadata": {},
   "outputs": [],
   "source": []
  },
  {
   "cell_type": "code",
   "execution_count": null,
   "id": "c71df391",
   "metadata": {},
   "outputs": [],
   "source": []
  },
  {
   "cell_type": "code",
   "execution_count": null,
   "id": "8eb15cf2",
   "metadata": {},
   "outputs": [],
   "source": []
  },
  {
   "cell_type": "code",
   "execution_count": null,
   "id": "19670757",
   "metadata": {},
   "outputs": [],
   "source": []
  },
  {
   "cell_type": "code",
   "execution_count": null,
   "id": "db0d7d5a",
   "metadata": {},
   "outputs": [],
   "source": []
  },
  {
   "cell_type": "code",
   "execution_count": null,
   "id": "c3e71738",
   "metadata": {},
   "outputs": [],
   "source": []
  },
  {
   "cell_type": "code",
   "execution_count": null,
   "id": "53520d9b",
   "metadata": {},
   "outputs": [],
   "source": []
  },
  {
   "cell_type": "code",
   "execution_count": null,
   "id": "4ae94fff",
   "metadata": {},
   "outputs": [],
   "source": []
  },
  {
   "cell_type": "code",
   "execution_count": null,
   "id": "9eb885ce",
   "metadata": {},
   "outputs": [],
   "source": []
  },
  {
   "cell_type": "code",
   "execution_count": null,
   "id": "2cc25a01",
   "metadata": {},
   "outputs": [],
   "source": []
  },
  {
   "cell_type": "code",
   "execution_count": null,
   "id": "15e65090",
   "metadata": {},
   "outputs": [],
   "source": []
  },
  {
   "cell_type": "code",
   "execution_count": null,
   "id": "34ff52ad",
   "metadata": {},
   "outputs": [],
   "source": []
  },
  {
   "cell_type": "code",
   "execution_count": null,
   "id": "261feae2",
   "metadata": {},
   "outputs": [],
   "source": []
  },
  {
   "cell_type": "code",
   "execution_count": null,
   "id": "c4530914",
   "metadata": {},
   "outputs": [],
   "source": []
  },
  {
   "cell_type": "code",
   "execution_count": null,
   "id": "4f513dc1",
   "metadata": {},
   "outputs": [],
   "source": []
  },
  {
   "cell_type": "code",
   "execution_count": null,
   "id": "385b2b3f",
   "metadata": {},
   "outputs": [],
   "source": []
  },
  {
   "cell_type": "code",
   "execution_count": null,
   "id": "eafad2f4",
   "metadata": {},
   "outputs": [],
   "source": []
  },
  {
   "cell_type": "code",
   "execution_count": null,
   "id": "2c1914b9",
   "metadata": {},
   "outputs": [],
   "source": []
  },
  {
   "cell_type": "code",
   "execution_count": null,
   "id": "7f93e8f7",
   "metadata": {},
   "outputs": [],
   "source": []
  },
  {
   "cell_type": "code",
   "execution_count": null,
   "id": "a89914f1",
   "metadata": {},
   "outputs": [],
   "source": []
  },
  {
   "cell_type": "code",
   "execution_count": null,
   "id": "fd387c3b",
   "metadata": {},
   "outputs": [],
   "source": []
  },
  {
   "cell_type": "code",
   "execution_count": null,
   "id": "0b14a26a",
   "metadata": {},
   "outputs": [],
   "source": []
  }
 ],
 "metadata": {
  "kernelspec": {
   "display_name": "Python 3 (ipykernel)",
   "language": "python",
   "name": "python3"
  },
  "language_info": {
   "codemirror_mode": {
    "name": "ipython",
    "version": 3
   },
   "file_extension": ".py",
   "mimetype": "text/x-python",
   "name": "python",
   "nbconvert_exporter": "python",
   "pygments_lexer": "ipython3",
   "version": "3.11.5"
  }
 },
 "nbformat": 4,
 "nbformat_minor": 5
}
